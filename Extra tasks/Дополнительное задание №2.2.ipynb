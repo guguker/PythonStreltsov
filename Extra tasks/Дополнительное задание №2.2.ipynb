{
  "nbformat": 4,
  "nbformat_minor": 0,
  "metadata": {
    "colab": {
      "provenance": [],
      "include_colab_link": true
    },
    "kernelspec": {
      "name": "python3",
      "display_name": "Python 3"
    },
    "language_info": {
      "name": "python"
    }
  },
  "cells": [
    {
      "cell_type": "markdown",
      "metadata": {
        "id": "view-in-github",
        "colab_type": "text"
      },
      "source": [
        "<a href=\"https://colab.research.google.com/github/guguker/University/blob/main/Extra%20tasks/%D0%94%D0%BE%D0%BF%D0%BE%D0%BB%D0%BD%D0%B8%D1%82%D0%B5%D0%BB%D1%8C%D0%BD%D0%BE%D0%B5%20%D0%B7%D0%B0%D0%B4%D0%B0%D0%BD%D0%B8%D0%B5%20%E2%84%962.2.ipynb\" target=\"_parent\"><img src=\"https://colab.research.google.com/assets/colab-badge.svg\" alt=\"Open In Colab\"/></a>"
      ]
    },
    {
      "cell_type": "markdown",
      "source": [
        "# **Дополнительное задание №2.2. Замыкания. Декораторы. Итераторы. Генераторы**"
      ],
      "metadata": {
        "id": "AFKOdzjAKWYc"
      }
    },
    {
      "cell_type": "markdown",
      "source": [
        "**БАЗА:**\n",
        "\n",
        "- **Замыкания** позволяют создавать функции с сохраняющимся состоянием. Это полезно для создания фабричных функций и функций с настраиваемым поведением.\n",
        "- **Декораторы** позволяют модифицировать или расширять поведение функций без изменения их исходного кода."
      ],
      "metadata": {
        "id": "nBwTqfsSyaGg"
      }
    },
    {
      "cell_type": "markdown",
      "source": [
        "---"
      ],
      "metadata": {
        "id": "2VnR8e3twGfD"
      }
    },
    {
      "cell_type": "markdown",
      "source": [
        "## **I. Замыкания и декораторы**"
      ],
      "metadata": {
        "id": "_ZPLUks08b1-"
      }
    },
    {
      "cell_type": "markdown",
      "metadata": {
        "id": "eVsLMeozyshu"
      },
      "source": [
        "### **Пункт №1**\n",
        "\n",
        "Напишите две функции создания списка из чётных чисел от 0 до N (N – аргумент функции): \\([0, 2, 4, ..., N]\\).\n",
        "\n",
        "- **Первая функция** должна использовать метод `append` для добавления элементов в список.\n",
        "- **Вторая функция** должна использовать **генератор списков** (list comprehensions) для создания списка.\n",
        "\n",
        "После этого, через **декоратор**, определите время работы этих функций."
      ]
    },
    {
      "cell_type": "code",
      "source": [
        "import time\n",
        "\n",
        "def get_time(fn):\n",
        "  def inner(*args):\n",
        "    st_time = time.time()\n",
        "    fn(*args)\n",
        "    main_time = time.time() - st_time\n",
        "    print(f'Время выполнения : {main_time}')\n",
        "    return fn(*args)\n",
        "  return inner\n",
        "\n",
        "@get_time\n",
        "def append_fn(N: int) -> list:\n",
        "  array = []\n",
        "  for digit in range(0, N, 2):\n",
        "    array.append(digit)\n",
        "  return array\n",
        "\n",
        "@get_time\n",
        "def gener_fn(N: int) -> list:\n",
        "  return [value for value in range(0, N, 2)]\n",
        "\n",
        "print(append_fn(10))\n",
        "print(gener_fn(10))"
      ],
      "metadata": {
        "id": "04AwDHUyZe6F",
        "colab": {
          "base_uri": "https://localhost:8080/"
        },
        "outputId": "c7e4dab3-d479-40d3-adf6-c56e62ea4d7a"
      },
      "execution_count": null,
      "outputs": [
        {
          "output_type": "stream",
          "name": "stdout",
          "text": [
            "Время выполнения : 6.4373016357421875e-06\n",
            "[0, 2, 4, 6, 8]\n",
            "Время выполнения : 5.4836273193359375e-06\n",
            "[0, 2, 4, 6, 8]\n"
          ]
        }
      ]
    },
    {
      "cell_type": "markdown",
      "source": [
        "---"
      ],
      "metadata": {
        "id": "_0Jy4QhEwGDd"
      }
    },
    {
      "cell_type": "markdown",
      "source": [
        "### **Пункт №2**\n",
        "\n",
        "Напишите **декоратор** для кэширования результатов работы функции, вычисляющей значение n-го числа [**ряда Фибоначчи**](https://ru.wikipedia.org/wiki/Числа_Фибоначчи).\n",
        "\n",
        "То есть, при повторном вызове функции через декоратор уже имеющийся результат должен браться из кэша, а не вычисляться заново.\n",
        "\n",
        "**Например:**\n",
        "\n",
        "- При значении параметра `n = 5`, должна кэшироваться последовательность \\([0, 1, 1, 2, 3, 5]\\).\n",
        "- Вызывая после этого целевую функцию через декоратор ещё раз с `n = 3`, результат \\([0, 1, 1, 2]\\) должен браться из кэша.\n",
        "- Если последующее значение `n` больше предыдущего, например `n = 10`, вычисление должно продолжаться, начиная с закэшированной последовательности.\n",
        "\n",
        "*Подсказка: используйте **замыкание** для хранения кэша внутри декоратора.*\n"
      ],
      "metadata": {
        "id": "DfDtOSmDl7ic"
      }
    },
    {
      "cell_type": "code",
      "source": [
        "def fib_cache(fn):\n",
        "  cache = {}\n",
        "  def inner(*args, **kwargs):\n",
        "    if args in cache:\n",
        "      return cache[args]\n",
        "    else:\n",
        "      res = fn(*args, **kwargs)\n",
        "      cache[args] = res\n",
        "      return res\n",
        "  return inner\n",
        "\n",
        "def fib(n):\n",
        "  res = []\n",
        "  a, b = 0, 1\n",
        "  for _ in range(n):\n",
        "    res.append(a)\n",
        "    a, b = b, a + b\n",
        "  return res\n",
        "\n",
        "print(fib(13))\n",
        "print(f'Кэшировано : {fib(13)}')"
      ],
      "metadata": {
        "id": "CtbbsIBsZfHB",
        "colab": {
          "base_uri": "https://localhost:8080/"
        },
        "outputId": "b5b09270-aca7-478d-d368-b32dc1d72877"
      },
      "execution_count": null,
      "outputs": [
        {
          "output_type": "stream",
          "name": "stdout",
          "text": [
            "[0, 1, 1, 2, 3, 5, 8, 13, 21, 34, 55, 89, 144]\n",
            "Кэшировано : [0, 1, 1, 2, 3, 5, 8, 13, 21, 34, 55, 89, 144]\n"
          ]
        }
      ]
    },
    {
      "cell_type": "markdown",
      "source": [
        "---"
      ],
      "metadata": {
        "id": "CIiq8lr7wFkS"
      }
    },
    {
      "cell_type": "markdown",
      "source": [
        "### **Пункт №3**\n",
        "\n",
        "Примените к функции из задания №2 сразу **два декоратора**:\n",
        "\n",
        "1. **Декоратор**, определяющий время выполнения функции.\n",
        "2. **Кэширующий декоратор** (из задания №2).\n",
        "\n",
        "Сравните время работы функции с использованием кэширования и без него.\n"
      ],
      "metadata": {
        "id": "zY5zVHuifDve"
      }
    },
    {
      "cell_type": "code",
      "source": [
        "@testTime\n",
        "@fib_cache\n",
        "def fib(n):\n",
        "    result = []\n",
        "    a, b = 0, 1\n",
        "    for _ in range(n):\n",
        "        result.append(a)\n",
        "        a, b = b, a + b\n",
        "    return result\n",
        "\n",
        "print('Без кэша')\n",
        "print(fib(9))\n",
        "print('C кэшем')\n",
        "print(fib(9))"
      ],
      "metadata": {
        "id": "dXuu8LJgg-0r",
        "colab": {
          "base_uri": "https://localhost:8080/"
        },
        "outputId": "7b55c810-8300-4965-e14f-86920393a241"
      },
      "execution_count": null,
      "outputs": [
        {
          "output_type": "stream",
          "name": "stdout",
          "text": [
            "Без кэша\n",
            "Время работы: 8.821487426757812e-06 сек\n",
            "None\n",
            "C кэшем\n",
            "Время работы: 2.6226043701171875e-06 сек\n",
            "None\n"
          ]
        }
      ]
    },
    {
      "cell_type": "markdown",
      "source": [
        "---"
      ],
      "metadata": {
        "id": "fsSegPodwEwZ"
      }
    },
    {
      "cell_type": "markdown",
      "source": [
        "### **Пункт №4**\n",
        "\n",
        "Создайте функцию **make_multiplier(n)**, которая принимает число **n** и возвращает функцию, умножающую переданное ей число на **n**.\n",
        "\n",
        "**Пример использования:**\n",
        "\n",
        "```python\n",
        "def make_multiplier(n):\n",
        "    # Ваш код\n",
        "\n",
        "times3 = make_multiplier(3)\n",
        "print(times3(5))  # Вывод: 15\n",
        "```"
      ],
      "metadata": {
        "id": "Ap04UA6ZtoK1"
      }
    },
    {
      "cell_type": "code",
      "source": [
        "def make_multi(n):\n",
        "  def inner(value):\n",
        "    return n * value\n",
        "  return inner\n",
        "\n",
        "multi = make_multi(3)\n",
        "print(multi(5))"
      ],
      "metadata": {
        "id": "HasdSjestowl",
        "colab": {
          "base_uri": "https://localhost:8080/"
        },
        "outputId": "8a24bb10-b9fd-423a-d24f-dc3190342bbc"
      },
      "execution_count": null,
      "outputs": [
        {
          "output_type": "stream",
          "name": "stdout",
          "text": [
            "15\n"
          ]
        }
      ]
    },
    {
      "cell_type": "markdown",
      "source": [
        "---"
      ],
      "metadata": {
        "id": "MIPkER_LwD_0"
      }
    },
    {
      "cell_type": "markdown",
      "source": [
        "### **Пункт №5**\n",
        "\n",
        "Реализуйте функцию с замыканием, которая настраивает округление чисел до заданного количества знаков после запятой.\n",
        "\n",
        "**Пример:**\n",
        "\n",
        "```python\n",
        "def rounder(n):\n",
        "    # Ваш код\n",
        "\n",
        "round_to_2 = rounder(2)\n",
        "print(round_to_2(3.14159))  # Вывод: 3.14\n",
        "```\n"
      ],
      "metadata": {
        "id": "mTwh5dIqto8N"
      }
    },
    {
      "cell_type": "code",
      "source": [
        "def rounder(n):\n",
        "  def inner(value):\n",
        "    return round(value, n)\n",
        "  return inner\n",
        "\n",
        "round_to_2 = rounder(2)\n",
        "print(round_to_2(3.14159))\n",
        "\n",
        "round_to_3 = rounder(3)\n",
        "print(round_to_3(3.14159))\n",
        "\n",
        "round_to_4 = rounder(4)\n",
        "print(round_to_4(3.14159))"
      ],
      "metadata": {
        "id": "zjlE-viztpDo",
        "colab": {
          "base_uri": "https://localhost:8080/"
        },
        "outputId": "79d8d18d-46db-4727-92ca-613d49705010"
      },
      "execution_count": null,
      "outputs": [
        {
          "output_type": "stream",
          "name": "stdout",
          "text": [
            "3.14\n",
            "3.142\n",
            "3.1416\n"
          ]
        }
      ]
    },
    {
      "cell_type": "markdown",
      "source": [
        "---"
      ],
      "metadata": {
        "id": "6u2MeXBiwAyf"
      }
    },
    {
      "cell_type": "markdown",
      "source": [
        "### **Пункт №6**\n",
        "\n",
        "Напишите **декоратор**, который измеряет время исполнения функции и выводит его на экран, только если время превышает определённый порог.\n",
        "\n",
        "**Пример:**\n",
        "\n",
        "```python\n",
        "@time_threshold(threshold=0.5)\n",
        "def long_running_function():\n",
        "    # Долгий код\n",
        "\n",
        "long_running_function()\n",
        "# Выводится время выполнения только если оно больше 0.5 секунд\n",
        "```"
      ],
      "metadata": {
        "id": "i5A4zQl5tpKJ"
      }
    },
    {
      "cell_type": "code",
      "source": [
        "import time\n",
        "\n",
        "def time_threshold(threshold):\n",
        "  def inner(fn):\n",
        "    def in_inner(*args):\n",
        "      st = time.time()\n",
        "      fn(*args)\n",
        "      itogo_time = time.time() - st\n",
        "      if itogo_time > threshold:\n",
        "        print(f'Функция работала : {itogo_time} секунд.')\n",
        "      else:\n",
        "        print(f'Функция работала очень мало времени :((')\n",
        "    return in_inner\n",
        "  return inner\n",
        "\n",
        "\n",
        "@time_threshold(0.5)\n",
        "def long_run_fn(n):\n",
        "  cnt = 0\n",
        "  while cnt != n:\n",
        "    cnt += 1\n",
        "\n",
        "long_run_fn(78536492)\n",
        "long_run_fn(1)"
      ],
      "metadata": {
        "id": "LMGleXaetpP6",
        "colab": {
          "base_uri": "https://localhost:8080/"
        },
        "outputId": "09e067f6-b082-4b6c-af67-fe33ef8c0618"
      },
      "execution_count": null,
      "outputs": [
        {
          "output_type": "stream",
          "name": "stdout",
          "text": [
            "Функция работала : 6.380050897598267 секунд.\n",
            "Функция работала очень мало времени :((\n"
          ]
        }
      ]
    },
    {
      "cell_type": "markdown",
      "source": [
        "---"
      ],
      "metadata": {
        "id": "Ag0rUJm-wIK1"
      }
    },
    {
      "cell_type": "markdown",
      "source": [
        "## **II. Итераторы и генераторы**"
      ],
      "metadata": {
        "id": "tu5ZanR_8j_R"
      }
    },
    {
      "cell_type": "markdown",
      "source": [
        "---\n",
        "\n",
        "### **Пункт №1. Генератор строк фиксированной длины**\n",
        "\n",
        "Напишите генератор `string_generator(char, times)`, который генерирует строки, состоящие из символа `char`, повторенного от 1 до `times` раз.\n",
        "\n",
        "```python\n",
        "# Пример использования:\n",
        "for s in string_generator('*', 5):\n",
        "    print(s)\n",
        "# Вывод:\n",
        "# *\n",
        "# **\n",
        "# ***\n",
        "# ****\n",
        "# *****\n",
        "```\n",
        "\n"
      ],
      "metadata": {
        "id": "7KQ8huR-8C_4"
      }
    },
    {
      "cell_type": "markdown",
      "source": [
        "---"
      ],
      "metadata": {
        "id": "ktfqCVPY-Mlx"
      }
    },
    {
      "cell_type": "code",
      "source": [
        "def string_generator(value, times):\n",
        "  string = value\n",
        "  for _ in range(times):\n",
        "    yield string\n",
        "    string += value\n",
        "\n",
        "for s in string_generator('*', 7):\n",
        "    print(s)"
      ],
      "metadata": {
        "id": "uvI-Ebqu98bW",
        "colab": {
          "base_uri": "https://localhost:8080/"
        },
        "outputId": "0e9355f9-6c9d-40fa-d616-2471ce64a8e7"
      },
      "execution_count": null,
      "outputs": [
        {
          "output_type": "stream",
          "name": "stdout",
          "text": [
            "*\n",
            "**\n",
            "***\n",
            "****\n",
            "*****\n",
            "******\n",
            "*******\n"
          ]
        }
      ]
    },
    {
      "cell_type": "markdown",
      "source": [
        "---\n",
        "\n",
        "### **Пункт №2. Генератор бесконечной последовательности**\n",
        "\n",
        "Создайте бесконечный генератор `infinite_sequence()`, который с каждым вызовом возвращает следующее число, начиная с 1.\n",
        "\n",
        "```python\n",
        "# Пример использования:\n",
        "gen = infinite_sequence()\n",
        "for _ in range(5):\n",
        "    print(next(gen))\n",
        "# Вывод:\n",
        "# 1\n",
        "# 2\n",
        "# 3\n",
        "# 4\n",
        "# 5\n",
        "```\n",
        "\n",
        "---"
      ],
      "metadata": {
        "id": "zDtiD8Rl9Oqu"
      }
    },
    {
      "cell_type": "code",
      "source": [
        "def infinite_sequence(start=1):\n",
        "    while True:\n",
        "        yield start\n",
        "        start += 1\n",
        "\n",
        "numbers = infinite_sequence()\n",
        "for _ in range(5):\n",
        "  print(next(numbers))"
      ],
      "metadata": {
        "id": "Yotj0YMK-Avy",
        "colab": {
          "base_uri": "https://localhost:8080/"
        },
        "outputId": "77a90f76-7f2b-4163-e6e5-86d286923b44"
      },
      "execution_count": null,
      "outputs": [
        {
          "output_type": "stream",
          "name": "stdout",
          "text": [
            "1\n",
            "2\n",
            "3\n",
            "4\n",
            "5\n"
          ]
        }
      ]
    },
    {
      "cell_type": "markdown",
      "source": [
        "---\n",
        "\n",
        "### **Пункт №3. Генератор комбинированных списков**\n",
        "\n",
        "Создайте генератор `combined_lists(lst1, lst2)`, который попеременно возвращает элементы из `lst1` и `lst2`. Если длины списков неравны, генератор должен остановиться при исчерпании более короткого списка.\n",
        "\n",
        "```python\n",
        "# Пример использования:\n",
        "for item in combined_lists([1, 2, 3], ['a', 'b', 'c', 'd']):\n",
        "    print(item)\n",
        "# Вывод:\n",
        "# 1\n",
        "# 'a'\n",
        "# 2\n",
        "# 'b'\n",
        "# 3\n",
        "# 'c'\n",
        "```"
      ],
      "metadata": {
        "id": "rJQEC1n19KHE"
      }
    },
    {
      "cell_type": "markdown",
      "source": [
        "---"
      ],
      "metadata": {
        "id": "1h8fsmju-LQh"
      }
    },
    {
      "cell_type": "code",
      "source": [
        "def combined_lists(lst1, lst2):\n",
        "  for a, b in zip(lst1, lst2):\n",
        "    yield a\n",
        "    yield b\n",
        "\n",
        "for item in combined_lists([1, 2, 3], ['a', 'b', 'c', 'd']):\n",
        "    print(item)"
      ],
      "metadata": {
        "id": "_kcrlmgU-Bmz",
        "colab": {
          "base_uri": "https://localhost:8080/"
        },
        "outputId": "63728aa0-7a1b-4a98-89c6-276210291bac"
      },
      "execution_count": null,
      "outputs": [
        {
          "output_type": "stream",
          "name": "stdout",
          "text": [
            "1\n",
            "a\n",
            "2\n",
            "b\n",
            "3\n",
            "c\n"
          ]
        }
      ]
    },
    {
      "cell_type": "markdown",
      "source": [
        "---\n",
        "\n",
        "### **Пункт №4. Генератор перевернутой строки**\n",
        "\n",
        "Напишите генератор `reverse_string(s)`, который при каждом вызове возвращает следующий символ строки `s` в обратном порядке.\n",
        "\n",
        "```python\n",
        "# Пример использования:\n",
        "for char in reverse_string('hello'):\n",
        "    print(char)\n",
        "# Вывод:\n",
        "# o\n",
        "# l\n",
        "# l\n",
        "# e\n",
        "# h\n",
        "```"
      ],
      "metadata": {
        "id": "CEXaNzJX9B1D"
      }
    },
    {
      "cell_type": "markdown",
      "source": [
        "---"
      ],
      "metadata": {
        "id": "L9WQ5Jpq-JaO"
      }
    },
    {
      "cell_type": "code",
      "source": [
        "def reverse_string(s):\n",
        "  for item in reversed(s):\n",
        "    yield item\n",
        "\n",
        "for item in reverse_string('hello'):\n",
        "    print(item)"
      ],
      "metadata": {
        "id": "5w9xT0eR-CBf",
        "colab": {
          "base_uri": "https://localhost:8080/"
        },
        "outputId": "ae13c627-c861-4e74-a15b-10b1bb74454a"
      },
      "execution_count": null,
      "outputs": [
        {
          "output_type": "stream",
          "name": "stdout",
          "text": [
            "o\n",
            "l\n",
            "l\n",
            "e\n",
            "h\n"
          ]
        }
      ]
    },
    {
      "cell_type": "markdown",
      "source": [
        "---\n",
        "\n",
        "### **Пункт №5. Генератор степеней двойки**\n",
        "\n",
        "Создайте генератор `powers_of_two(n)`, который возвращает степени двойки от 2^0 до 2^n.\n",
        "\n",
        "```python\n",
        "# Пример использования:\n",
        "for num in powers_of_two(5):\n",
        "    print(num)\n",
        "# Вывод:\n",
        "# 1  # 2^0\n",
        "# 2  # 2^1\n",
        "# 4  # 2^2\n",
        "# 8  # 2^3\n",
        "# 16 # 2^4\n",
        "# 32 # 2^5\n",
        "```\n",
        "\n",
        "---"
      ],
      "metadata": {
        "id": "GNykcs8D8-Je"
      }
    },
    {
      "cell_type": "code",
      "source": [
        "def powers_of_two(n):\n",
        "  for item in range(n + 1):\n",
        "    yield 2 ** item\n",
        "\n",
        "for num in powers_of_two(5):\n",
        "    print(num)"
      ],
      "metadata": {
        "id": "LjNW3m-y-CXj",
        "colab": {
          "base_uri": "https://localhost:8080/"
        },
        "outputId": "5ed902b0-b660-4f1a-cc09-7a955fbad0f1"
      },
      "execution_count": null,
      "outputs": [
        {
          "output_type": "stream",
          "name": "stdout",
          "text": [
            "1\n",
            "2\n",
            "4\n",
            "8\n",
            "16\n",
            "32\n"
          ]
        }
      ]
    },
    {
      "cell_type": "markdown",
      "source": [
        "---"
      ],
      "metadata": {
        "id": "OU71icWn-Ggg"
      }
    },
    {
      "cell_type": "markdown",
      "source": [
        "### **Пункт №6. Генератор чисел из строки**\n",
        "\n",
        "Напишите генератор `number_extractor(s)`, который извлекает числа из заданной строки `s` и возвращает их как целые числа.\n",
        "\n",
        "```python\n",
        "# Пример использования:\n",
        "for num in number_extractor('abc123def45gh6'):\n",
        "    print(num)\n",
        "# Вывод:\n",
        "# 123\n",
        "# 45\n",
        "# 6\n",
        "```"
      ],
      "metadata": {
        "id": "w5gcNZCM829V"
      }
    },
    {
      "cell_type": "markdown",
      "source": [
        "---"
      ],
      "metadata": {
        "id": "oJt2kxt8-FUP"
      }
    },
    {
      "cell_type": "code",
      "source": [
        "def number_extractor(string):\n",
        "  for simvol in string:\n",
        "    if simvol.isdigit() == False:\n",
        "      string = string.replace(simvol, ' ')\n",
        "  listik = string.split(' ')\n",
        "  while '' in listik:\n",
        "    listik.remove('')\n",
        "  for simvol in range(len(listik)):\n",
        "    yield listik[simvol]\n",
        "\n",
        "for num in number_extractor('abc123def45gh6'):\n",
        "    print(num)"
      ],
      "metadata": {
        "id": "zDYVvuBX-C9M",
        "colab": {
          "base_uri": "https://localhost:8080/"
        },
        "outputId": "9983892d-5353-4bc7-f373-ada43ea8dd84"
      },
      "execution_count": null,
      "outputs": [
        {
          "output_type": "stream",
          "name": "stdout",
          "text": [
            "123\n",
            "45\n",
            "6\n"
          ]
        }
      ]
    },
    {
      "cell_type": "markdown",
      "source": [
        "---"
      ],
      "metadata": {
        "id": "h6ztzyUn-D5n"
      }
    }
  ]
}